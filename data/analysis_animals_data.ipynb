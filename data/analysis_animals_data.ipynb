{
 "cells": [
  {
   "cell_type": "code",
   "execution_count": 50,
   "id": "33c73807",
   "metadata": {},
   "outputs": [],
   "source": [
    "import pandas as pd\n",
    "import matplotlib.pyplot as plot\n",
    "import matplotlib.image as mpimg\n",
    "from shutil import copyfile\n",
    "import pathlib\n",
    "%matplotlib widget"
   ]
  },
  {
   "cell_type": "code",
   "execution_count": 2,
   "id": "48b81b76",
   "metadata": {},
   "outputs": [],
   "source": [
    "df = pd.read_csv(\"/users/janhr/unsup3d_extended/data/animals_dataset_dataframe.csv\", index_col=0)"
   ]
  },
  {
   "cell_type": "markdown",
   "id": "0ef9d380",
   "metadata": {},
   "source": [
    "## Number of images in dataset"
   ]
  },
  {
   "cell_type": "code",
   "execution_count": 3,
   "id": "74734ed2",
   "metadata": {},
   "outputs": [
    {
     "data": {
      "text/plain": [
       "117484"
      ]
     },
     "execution_count": 3,
     "metadata": {},
     "output_type": "execute_result"
    }
   ],
   "source": [
    "len(df)"
   ]
  },
  {
   "cell_type": "markdown",
   "id": "312d754c",
   "metadata": {},
   "source": [
    "## Number of classes"
   ]
  },
  {
   "cell_type": "code",
   "execution_count": 4,
   "id": "773d987d",
   "metadata": {},
   "outputs": [
    {
     "data": {
      "text/plain": [
       "149"
      ]
     },
     "execution_count": 4,
     "metadata": {},
     "output_type": "execute_result"
    }
   ],
   "source": [
    "len(df.groupby(['class']))"
   ]
  },
  {
   "cell_type": "markdown",
   "id": "e9dbc135",
   "metadata": {},
   "source": [
    "## How do images differ in size?"
   ]
  },
  {
   "cell_type": "code",
   "execution_count": 5,
   "id": "9937c788",
   "metadata": {},
   "outputs": [
    {
     "name": "stdout",
     "output_type": "stream",
     "text": [
      "111\n",
      "4143\n"
     ]
    }
   ],
   "source": [
    "print(len(df[(df[\"width\"] > 1000) | (df[\"height\"] > 1000)]))\n",
    "print(len(df[(df[\"width\"] < 64) | (df[\"height\"] < 64)]))"
   ]
  },
  {
   "cell_type": "markdown",
   "id": "1b0ca98a",
   "metadata": {},
   "source": [
    "## How do images differ in ratio?"
   ]
  },
  {
   "cell_type": "code",
   "execution_count": 6,
   "id": "ec66ceed",
   "metadata": {},
   "outputs": [
    {
     "name": "stdout",
     "output_type": "stream",
     "text": [
      "8808\n",
      "1169\n"
     ]
    }
   ],
   "source": [
    "# Ratio\n",
    "df['ratio'] = df.apply(lambda row: row[\"width\"] / row[\"height\"], axis=1)\n",
    "print(len(df[(df[\"ratio\"] > 1.20) | (df[\"ratio\"] < 0.80)]))\n",
    "print(len(df[(df[\"ratio\"] > 1.40) | (df[\"ratio\"] < 0.60)]))"
   ]
  },
  {
   "cell_type": "code",
   "execution_count": 7,
   "id": "c3a6da3c",
   "metadata": {},
   "outputs": [
    {
     "data": {
      "application/vnd.jupyter.widget-view+json": {
       "model_id": "d0ef9163f14e4b2f85cf6122bd223372",
       "version_major": 2,
       "version_minor": 0
      },
      "text/plain": [
       "Canvas(toolbar=Toolbar(toolitems=[('Home', 'Reset original view', 'home', 'home'), ('Back', 'Back to previous …"
      ]
     },
     "metadata": {},
     "output_type": "display_data"
    }
   ],
   "source": [
    "out = pd.qcut(df[\"ratio\"], q=6)\n",
    "\n",
    "ax = out.value_counts(sort=False).plot.bar(rot=0, color=\"b\", figsize=(10,4))\n",
    "# ax.set_xticklabels([c[1:-1].replace(\",\",\" to\") for c in out.cat.categories])\n",
    "ax.set_xticklabels(out.cat.categories)\n",
    "ax.set_xlabel(\"Ratio\")\n",
    "ax.set_ylabel(\"Number of images\")\n",
    "plot.show()"
   ]
  },
  {
   "cell_type": "markdown",
   "id": "65b77698",
   "metadata": {},
   "source": [
    "=> ~18.000 images have a width/height ratio between 0.487 and 0.911, ~18.000 other images have a width/height ratio between 0.959 and 994, and so on"
   ]
  },
  {
   "cell_type": "code",
   "execution_count": 11,
   "id": "e0b2198d",
   "metadata": {},
   "outputs": [
    {
     "data": {
      "text/plain": [
       "class\n",
       "n02085620     913\n",
       "n02085782     470\n",
       "n02085936     894\n",
       "n02086079     887\n",
       "n02086240     792\n",
       "             ... \n",
       "n02133161     604\n",
       "n02134084     664\n",
       "n02134418     498\n",
       "n02137549     772\n",
       "n02138441    1034\n",
       "Name: image_name, Length: 149, dtype: int64"
      ]
     },
     "execution_count": 11,
     "metadata": {},
     "output_type": "execute_result"
    }
   ],
   "source": []
  },
  {
   "cell_type": "markdown",
   "id": "61ba083f",
   "metadata": {},
   "source": [
    "## Number of images per class"
   ]
  },
  {
   "cell_type": "code",
   "execution_count": 10,
   "id": "a8169f1e",
   "metadata": {},
   "outputs": [],
   "source": [
    "number_imgs = df.groupby(['class']).count()[\"image_name\"]\n",
    "out = pd.qcut(number_imgs, q=6)\n",
    "\n",
    "ax = out.value_counts(sort=False).plot.bar(rot=0, color=\"b\", figsize=(10,4))\n",
    "# ax.set_xticklabels([c[1:-1].replace(\",\",\" to\") for c in out.cat.categories])\n",
    "ax.set_xticklabels(out.cat.categories)\n",
    "ax.set_xlabel(\"Number of images per class\")\n",
    "ax.set_ylabel(\"Number of classes\")\n",
    "plot.show()"
   ]
  },
  {
   "cell_type": "markdown",
   "id": "b12e0913",
   "metadata": {},
   "source": [
    "=> 25 classes consist of 364-662 images, 25 other classes concist 662 - 754 images and so on"
   ]
  },
  {
   "cell_type": "markdown",
   "id": "a7789ffa",
   "metadata": {},
   "source": [
    "## Average image for each class when center cropped and resized to 64x64"
   ]
  },
  {
   "cell_type": "code",
   "execution_count": null,
   "id": "8796e741",
   "metadata": {},
   "outputs": [],
   "source": [
    "from pathlib import Path\n",
    "root_path = \"/users/janhr/unsup3d_extended/data/animal_avg_class_images/\"\n",
    "for img_path in Path(root_path).glob('*.jpg'):\n",
    "    img = mpimg.imread(str(img_path))\n",
    "    \n",
    "    fig = plot.figure()\n",
    "    fig.suptitle(f\"{img_path.name[:-4]}\", fontsize=20)\n",
    "    plot.imshow(img)"
   ]
  },
  {
   "cell_type": "code",
   "execution_count": null,
   "id": "79f7e031",
   "metadata": {},
   "outputs": [],
   "source": []
  },
  {
   "cell_type": "code",
   "execution_count": null,
   "id": "49ef8338",
   "metadata": {},
   "outputs": [],
   "source": [
    "# Goal: find 5k images of dogs with a ratio close to 1"
   ]
  },
  {
   "cell_type": "code",
   "execution_count": 15,
   "id": "4ba759b3",
   "metadata": {},
   "outputs": [],
   "source": [
    "# Sub goal: find 10 dog classes:"
   ]
  },
  {
   "cell_type": "code",
   "execution_count": 16,
   "id": "6fbd0f95",
   "metadata": {},
   "outputs": [
    {
     "data": {
      "text/plain": [
       "class\n",
       "n02085620     913\n",
       "n02085782     470\n",
       "n02085936     894\n",
       "n02086079     887\n",
       "n02086240     792\n",
       "n02086646     886\n",
       "n02086910    1014\n",
       "n02087046     633\n",
       "n02087394     901\n",
       "n02088094     710\n",
       "n02088238     875\n",
       "n02088364     815\n",
       "n02088466     829\n",
       "n02088632     710\n",
       "n02089078     364\n",
       "Name: image_name, dtype: int64"
      ]
     },
     "execution_count": 16,
     "metadata": {},
     "output_type": "execute_result"
    }
   ],
   "source": [
    "number_imgs[:15]"
   ]
  },
  {
   "cell_type": "code",
   "execution_count": 33,
   "id": "6e68a55c",
   "metadata": {},
   "outputs": [],
   "source": [
    "# n02085620: Chihuahua\n",
    "# n02085936: Maltese Dog\n",
    "# n02086079: Pekinese (long hair)\n",
    "# n02086240: Shih-Tzu\n",
    "# n02086646: Blenheim spaniel\n",
    "# n02086910: Papillon\n",
    "# n02087046: Toy Terrier\n",
    "# n02087394: rhodesian ridgeback\n",
    "# n02088094: Afghan hound\n",
    "# n02088238: basset\n",
    "# n02088364: beagle\n",
    "list_of_dog_classes = [\"n02088094\", \"n02087394\", \"n02087046\", \"n02086910\", \"n02086646\", \"n02086240\", \"n02086079\", \"n02085936\", \"n02085620\", \"n02088238\",\"n02088364\"]"
   ]
  },
  {
   "cell_type": "code",
   "execution_count": 40,
   "id": "b497c41d",
   "metadata": {},
   "outputs": [],
   "source": [
    "dogs_square_ratio = df[(abs(df[\"ratio\"]-1) < 0.1) & df[\"class\"].isin(list_of_dog_classes)]"
   ]
  },
  {
   "cell_type": "code",
   "execution_count": 47,
   "id": "0079822c",
   "metadata": {},
   "outputs": [],
   "source": [
    "INPUT_PATH = \"/scratch/local/ssd/janhr/data/animals_original/\" \n",
    "OUTPUT_PATH = \"/scratch/local/ssd/janhr/data/dogs_square_ratio/\"\n",
    "pathlib.Path(OUTPUT_PATH).mkdir(parents=True, exist_ok=True) "
   ]
  },
  {
   "cell_type": "code",
   "execution_count": 51,
   "id": "6aac05fa",
   "metadata": {},
   "outputs": [],
   "source": [
    "for index, row in dogs_square_ratio.iterrows():\n",
    "    class_name = row[\"class\"]\n",
    "    img_name = row[\"image_name\"]\n",
    "    src = INPUT_PATH + class_name + \"/\" + img_name + \".jpg\"\n",
    "    dst = OUTPUT_PATH + class_name + \"/\" + img_name + \".jpg\"\n",
    "    pathlib.Path(OUTPUT_PATH + class_name).mkdir(parents=True, exist_ok=True) \n",
    "    copyfile(src, dst)"
   ]
  },
  {
   "cell_type": "code",
   "execution_count": null,
   "id": "678ee061",
   "metadata": {},
   "outputs": [],
   "source": []
  }
 ],
 "metadata": {
  "kernelspec": {
   "display_name": "Python 3",
   "language": "python",
   "name": "python3"
  },
  "language_info": {
   "codemirror_mode": {
    "name": "ipython",
    "version": 3
   },
   "file_extension": ".py",
   "mimetype": "text/x-python",
   "name": "python",
   "nbconvert_exporter": "python",
   "pygments_lexer": "ipython3",
   "version": "3.8.3"
  }
 },
 "nbformat": 4,
 "nbformat_minor": 5
}
