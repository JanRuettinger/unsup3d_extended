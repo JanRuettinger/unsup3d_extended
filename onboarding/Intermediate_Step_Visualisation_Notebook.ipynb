{
 "cells": [
  {
   "cell_type": "code",
   "execution_count": 1,
   "id": "boolean-adams",
   "metadata": {},
   "outputs": [],
   "source": [
    "%load_ext autoreload\n",
    "%autoreload 2\n",
    "%matplotlib notebook"
   ]
  },
  {
   "cell_type": "code",
   "execution_count": 2,
   "id": "difficult-developer",
   "metadata": {},
   "outputs": [
    {
     "name": "stdout",
     "output_type": "stream",
     "text": [
      "/users/janhr/unsup3d_extended/onboarding\n"
     ]
    }
   ],
   "source": [
    "!pwd"
   ]
  },
  {
   "cell_type": "code",
   "execution_count": 1,
   "id": "colonial-bailey",
   "metadata": {},
   "outputs": [
    {
     "name": "stdout",
     "output_type": "stream",
     "text": [
      "Loading checkpoint from /users/janhr/unsup3d_extended/pretrained/pretrained_cat/checkpoint100.pth\n",
      "Processing ../onboarding/images/cat_face/000_asymmetric_image.png\n",
      "torch.Size([1, 3, 64, 64])\n",
      "torch.Size([1, 3, 64, 64])\n",
      "1\n",
      "Saving results to ../demo/results/cats/000_asymmetric_image\n",
      "Processing ../onboarding/images/cat_face/000_cat.png\n",
      "torch.Size([1, 3, 64, 64])\n",
      "torch.Size([1, 3, 64, 64])\n",
      "1\n",
      "Saving results to ../demo/results/cats/000_cat\n"
     ]
    }
   ],
   "source": [
    "import sys\n",
    "from demo import Demo\n",
    "import argparse\n",
    "from PIL import Image\n",
    "from utils import *\n",
    "import os\n",
    "\n",
    "\n",
    "sys.path.append('/users/janhr/unsup3d_extended')\n",
    "sys.path.append('/users/janhr/unsup3d_extended/omboarding')\n",
    "sys.argv = ['']    \n",
    "    \n",
    "parser = argparse.ArgumentParser(description='Demo configurations.')\n",
    "parser.add_argument('--input', default='../onboarding/images/cat_face', type=str, help='Path to the directory containing input images')\n",
    "parser.add_argument('--result', default='../demo/results/cats', type=str, help='Path to the directory for saving results')\n",
    "parser.add_argument('--checkpoint', default='/users/janhr/unsup3d_extended/pretrained/pretrained_cat/checkpoint100.pth', type=str, help='Path to the checkpoint file')\n",
    "parser.add_argument('--output_size', default=128, type=int, help='Output image size')\n",
    "parser.add_argument('--gpu', default=True, action='store_true', help='Enable GPU')\n",
    "parser.add_argument('--detect_human_face', default=False, action='store_true', help='Enable automatic human face detection. This does not detect cat faces.')\n",
    "parser.add_argument('--render_video', default=False, action='store_true', help='Render 3D animations to video')\n",
    "args = parser.parse_args()\n",
    "\n",
    "input_dir = args.input\n",
    "result_dir = args.result\n",
    "model = Demo(args)\n",
    "im_list = [os.path.join(input_dir, f) for f in sorted(os.listdir(input_dir)) if is_image_file(f)]\n",
    "\n",
    "\n",
    "counter = 0\n",
    "\n",
    "for im_path in im_list:\n",
    "    if(counter > 1):\n",
    "        break\n",
    "    print(f\"Processing {im_path}\")\n",
    "    pil_im = Image.open(im_path).convert('RGB')\n",
    "    filename = im_path[-11:-4]\n",
    "    result_code = model.run(pil_im, filename)\n",
    "    if result_code == -1:\n",
    "        print(f\"Failed! Skipping {im_path}\")\n",
    "        continue\n",
    "    counter += 1\n",
    "\n",
    "    save_dir = os.path.join(result_dir, os.path.splitext(os.path.basename(im_path))[0])\n",
    "    model.save_results(save_dir)"
   ]
  },
  {
   "cell_type": "code",
   "execution_count": null,
   "id": "jewish-facial",
   "metadata": {},
   "outputs": [],
   "source": []
  }
 ],
 "metadata": {
  "kernelspec": {
   "display_name": "Python 3",
   "language": "python",
   "name": "python3"
  },
  "language_info": {
   "codemirror_mode": {
    "name": "ipython",
    "version": 3
   },
   "file_extension": ".py",
   "mimetype": "text/x-python",
   "name": "python",
   "nbconvert_exporter": "python",
   "pygments_lexer": "ipython3",
   "version": "3.7.7"
  }
 },
 "nbformat": 4,
 "nbformat_minor": 5
}
