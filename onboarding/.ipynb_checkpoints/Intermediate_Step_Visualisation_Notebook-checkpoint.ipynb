{
 "cells": [
  {
   "cell_type": "code",
   "execution_count": 1,
   "id": "pleasant-times",
   "metadata": {},
   "outputs": [],
   "source": [
    "%load_ext autoreload\n",
    "%autoreload 2\n",
    "%matplotlib notebook"
   ]
  },
  {
   "cell_type": "code",
   "execution_count": 2,
   "id": "billion-kelly",
   "metadata": {},
   "outputs": [
    {
     "name": "stdout",
     "output_type": "stream",
     "text": [
      "/users/janhr/unsup3d_extended/onboarding\n"
     ]
    }
   ],
   "source": [
    "!pwd"
   ]
  },
  {
   "cell_type": "code",
   "execution_count": 1,
   "id": "afraid-howard",
   "metadata": {},
   "outputs": [
    {
     "name": "stdout",
     "output_type": "stream",
     "text": [
      "Loading checkpoint from /users/janhr/unsup3d_extended/pretrained/pretrained_cat/checkpoint100.pth\n",
      "Processing ../onboarding/images/cat_face/001_cat.png\n",
      "Saving results to ../demo/results/cats/001_cat\n",
      "Processing ../onboarding/images/cat_face/002_cat.png\n",
      "Saving results to ../demo/results/cats/002_cat\n",
      "Processing ../onboarding/images/cat_face/003_cat.png\n",
      "Saving results to ../demo/results/cats/003_cat\n",
      "Processing ../onboarding/images/cat_face/004_cat.png\n",
      "Saving results to ../demo/results/cats/004_cat\n",
      "Processing ../onboarding/images/cat_face/005_cat.png\n",
      "Saving results to ../demo/results/cats/005_cat\n",
      "Processing ../onboarding/images/cat_face/006_cat.png\n",
      "Saving results to ../demo/results/cats/006_cat\n",
      "Processing ../onboarding/images/cat_face/007_cat.png\n",
      "Saving results to ../demo/results/cats/007_cat\n",
      "Processing ../onboarding/images/cat_face/008_cat.png\n",
      "Saving results to ../demo/results/cats/008_cat\n",
      "Processing ../onboarding/images/cat_face/009_cat.png\n",
      "Saving results to ../demo/results/cats/009_cat\n",
      "Processing ../onboarding/images/cat_face/00x_cat.png\n",
      "Saving results to ../demo/results/cats/00x_cat\n",
      "Processing ../onboarding/images/cat_face/010_cat.png\n",
      "Saving results to ../demo/results/cats/010_cat\n",
      "Processing ../onboarding/images/cat_face/011_cat.png\n",
      "Saving results to ../demo/results/cats/011_cat\n",
      "Processing ../onboarding/images/cat_face/012_cat.png\n",
      "Saving results to ../demo/results/cats/012_cat\n",
      "Processing ../onboarding/images/cat_face/014_cat.png\n",
      "Saving results to ../demo/results/cats/014_cat\n",
      "Processing ../onboarding/images/cat_face/015_cat.png\n",
      "Saving results to ../demo/results/cats/015_cat\n",
      "Processing ../onboarding/images/cat_face/016_cat.png\n"
     ]
    },
    {
     "ename": "KeyboardInterrupt",
     "evalue": "",
     "output_type": "error",
     "traceback": [
      "\u001b[0;31m---------------------------------------------------------------------------\u001b[0m",
      "\u001b[0;31mKeyboardInterrupt\u001b[0m                         Traceback (most recent call last)",
      "\u001b[0;32m<ipython-input-1-a800bcf9d967>\u001b[0m in \u001b[0;36m<module>\u001b[0;34m\u001b[0m\n\u001b[1;32m     35\u001b[0m     \u001b[0mpil_im\u001b[0m \u001b[0;34m=\u001b[0m \u001b[0mImage\u001b[0m\u001b[0;34m.\u001b[0m\u001b[0mopen\u001b[0m\u001b[0;34m(\u001b[0m\u001b[0mim_path\u001b[0m\u001b[0;34m)\u001b[0m\u001b[0;34m.\u001b[0m\u001b[0mconvert\u001b[0m\u001b[0;34m(\u001b[0m\u001b[0;34m'RGB'\u001b[0m\u001b[0;34m)\u001b[0m\u001b[0;34m\u001b[0m\u001b[0;34m\u001b[0m\u001b[0m\n\u001b[1;32m     36\u001b[0m     \u001b[0mfilename\u001b[0m \u001b[0;34m=\u001b[0m \u001b[0mim_path\u001b[0m\u001b[0;34m[\u001b[0m\u001b[0;34m-\u001b[0m\u001b[0;36m11\u001b[0m\u001b[0;34m:\u001b[0m\u001b[0;34m-\u001b[0m\u001b[0;36m4\u001b[0m\u001b[0;34m]\u001b[0m\u001b[0;34m\u001b[0m\u001b[0;34m\u001b[0m\u001b[0m\n\u001b[0;32m---> 37\u001b[0;31m     \u001b[0mresult_code\u001b[0m \u001b[0;34m=\u001b[0m \u001b[0mmodel\u001b[0m\u001b[0;34m.\u001b[0m\u001b[0mrun\u001b[0m\u001b[0;34m(\u001b[0m\u001b[0mpil_im\u001b[0m\u001b[0;34m,\u001b[0m \u001b[0mfilename\u001b[0m\u001b[0;34m)\u001b[0m\u001b[0;34m\u001b[0m\u001b[0;34m\u001b[0m\u001b[0m\n\u001b[0m\u001b[1;32m     38\u001b[0m     \u001b[0;32mif\u001b[0m \u001b[0mresult_code\u001b[0m \u001b[0;34m==\u001b[0m \u001b[0;34m-\u001b[0m\u001b[0;36m1\u001b[0m\u001b[0;34m:\u001b[0m\u001b[0;34m\u001b[0m\u001b[0;34m\u001b[0m\u001b[0m\n\u001b[1;32m     39\u001b[0m         \u001b[0mprint\u001b[0m\u001b[0;34m(\u001b[0m\u001b[0;34mf\"Failed! Skipping {im_path}\"\u001b[0m\u001b[0;34m)\u001b[0m\u001b[0;34m\u001b[0m\u001b[0;34m\u001b[0m\u001b[0m\n",
      "\u001b[0;32m~/unsup3d_extended/onboarding/demo.py\u001b[0m in \u001b[0;36mrun\u001b[0;34m(self, pil_im, filename)\u001b[0m\n\u001b[1;32m    273\u001b[0m         \u001b[0;31m## export to obj strings\u001b[0m\u001b[0;34m\u001b[0m\u001b[0;34m\u001b[0m\u001b[0;34m\u001b[0m\u001b[0m\n\u001b[1;32m    274\u001b[0m         \u001b[0mgrid3d_canon\u001b[0m \u001b[0;34m=\u001b[0m \u001b[0mself\u001b[0m\u001b[0;34m.\u001b[0m\u001b[0mdepth_to_3d_grid\u001b[0m\u001b[0;34m(\u001b[0m\u001b[0mself\u001b[0m\u001b[0;34m.\u001b[0m\u001b[0mcanon_depth\u001b[0m\u001b[0;34m)\u001b[0m  \u001b[0;31m# BxHxWx3\u001b[0m\u001b[0;34m\u001b[0m\u001b[0;34m\u001b[0m\u001b[0m\n\u001b[0;32m--> 275\u001b[0;31m         \u001b[0mself\u001b[0m\u001b[0;34m.\u001b[0m\u001b[0mobjs\u001b[0m\u001b[0;34m,\u001b[0m \u001b[0mself\u001b[0m\u001b[0;34m.\u001b[0m\u001b[0mmtls\u001b[0m \u001b[0;34m=\u001b[0m \u001b[0mexport_to_obj_string\u001b[0m\u001b[0;34m(\u001b[0m\u001b[0mgrid3d_canon\u001b[0m\u001b[0;34m,\u001b[0m \u001b[0mself\u001b[0m\u001b[0;34m.\u001b[0m\u001b[0mcanon_normal\u001b[0m\u001b[0;34m)\u001b[0m\u001b[0;34m\u001b[0m\u001b[0;34m\u001b[0m\u001b[0m\n\u001b[0m\u001b[1;32m    276\u001b[0m \u001b[0;34m\u001b[0m\u001b[0m\n\u001b[1;32m    277\u001b[0m \u001b[0;34m\u001b[0m\u001b[0m\n",
      "\u001b[0;32m~/unsup3d_extended/onboarding/utils.py\u001b[0m in \u001b[0;36mexport_to_obj_string\u001b[0;34m(vertices, normal)\u001b[0m\n\u001b[1;32m    169\u001b[0m         \u001b[0mobj\u001b[0m \u001b[0;34m+=\u001b[0m \u001b[0;34m\"\\n\\nusemtl tex\"\u001b[0m\u001b[0;34m\u001b[0m\u001b[0;34m\u001b[0m\u001b[0m\n\u001b[1;32m    170\u001b[0m         \u001b[0;32mfor\u001b[0m \u001b[0mf\u001b[0m \u001b[0;32min\u001b[0m \u001b[0mfaces\u001b[0m\u001b[0;34m[\u001b[0m\u001b[0mbi\u001b[0m\u001b[0;34m]\u001b[0m\u001b[0;34m:\u001b[0m\u001b[0;34m\u001b[0m\u001b[0;34m\u001b[0m\u001b[0m\n\u001b[0;32m--> 171\u001b[0;31m             \u001b[0mobj\u001b[0m \u001b[0;34m+=\u001b[0m \u001b[0;34m\"\\nf \"\u001b[0m \u001b[0;34m+\u001b[0m \u001b[0;34m\" \"\u001b[0m\u001b[0;34m.\u001b[0m\u001b[0mjoin\u001b[0m\u001b[0;34m(\u001b[0m\u001b[0;34m[\u001b[0m\u001b[0;34m\"%d/%d/%d\"\u001b[0m\u001b[0;34m%\u001b[0m\u001b[0;34m(\u001b[0m\u001b[0mx\u001b[0m\u001b[0;34m+\u001b[0m\u001b[0;36m1\u001b[0m\u001b[0;34m,\u001b[0m\u001b[0mx\u001b[0m\u001b[0;34m+\u001b[0m\u001b[0;36m1\u001b[0m\u001b[0;34m,\u001b[0m\u001b[0mx\u001b[0m\u001b[0;34m+\u001b[0m\u001b[0;36m1\u001b[0m\u001b[0;34m)\u001b[0m \u001b[0;32mfor\u001b[0m \u001b[0mx\u001b[0m \u001b[0;32min\u001b[0m \u001b[0mf\u001b[0m\u001b[0;34m]\u001b[0m\u001b[0;34m)\u001b[0m\u001b[0;34m\u001b[0m\u001b[0;34m\u001b[0m\u001b[0m\n\u001b[0m\u001b[1;32m    172\u001b[0m         \u001b[0mobjs\u001b[0m \u001b[0;34m+=\u001b[0m \u001b[0;34m[\u001b[0m\u001b[0mobj\u001b[0m\u001b[0;34m]\u001b[0m\u001b[0;34m\u001b[0m\u001b[0;34m\u001b[0m\u001b[0m\n\u001b[1;32m    173\u001b[0m \u001b[0;34m\u001b[0m\u001b[0m\n",
      "\u001b[0;32m~/unsup3d_extended/onboarding/utils.py\u001b[0m in \u001b[0;36m<listcomp>\u001b[0;34m(.0)\u001b[0m\n\u001b[1;32m    169\u001b[0m         \u001b[0mobj\u001b[0m \u001b[0;34m+=\u001b[0m \u001b[0;34m\"\\n\\nusemtl tex\"\u001b[0m\u001b[0;34m\u001b[0m\u001b[0;34m\u001b[0m\u001b[0m\n\u001b[1;32m    170\u001b[0m         \u001b[0;32mfor\u001b[0m \u001b[0mf\u001b[0m \u001b[0;32min\u001b[0m \u001b[0mfaces\u001b[0m\u001b[0;34m[\u001b[0m\u001b[0mbi\u001b[0m\u001b[0;34m]\u001b[0m\u001b[0;34m:\u001b[0m\u001b[0;34m\u001b[0m\u001b[0;34m\u001b[0m\u001b[0m\n\u001b[0;32m--> 171\u001b[0;31m             \u001b[0mobj\u001b[0m \u001b[0;34m+=\u001b[0m \u001b[0;34m\"\\nf \"\u001b[0m \u001b[0;34m+\u001b[0m \u001b[0;34m\" \"\u001b[0m\u001b[0;34m.\u001b[0m\u001b[0mjoin\u001b[0m\u001b[0;34m(\u001b[0m\u001b[0;34m[\u001b[0m\u001b[0;34m\"%d/%d/%d\"\u001b[0m\u001b[0;34m%\u001b[0m\u001b[0;34m(\u001b[0m\u001b[0mx\u001b[0m\u001b[0;34m+\u001b[0m\u001b[0;36m1\u001b[0m\u001b[0;34m,\u001b[0m\u001b[0mx\u001b[0m\u001b[0;34m+\u001b[0m\u001b[0;36m1\u001b[0m\u001b[0;34m,\u001b[0m\u001b[0mx\u001b[0m\u001b[0;34m+\u001b[0m\u001b[0;36m1\u001b[0m\u001b[0;34m)\u001b[0m \u001b[0;32mfor\u001b[0m \u001b[0mx\u001b[0m \u001b[0;32min\u001b[0m \u001b[0mf\u001b[0m\u001b[0;34m]\u001b[0m\u001b[0;34m)\u001b[0m\u001b[0;34m\u001b[0m\u001b[0;34m\u001b[0m\u001b[0m\n\u001b[0m\u001b[1;32m    172\u001b[0m         \u001b[0mobjs\u001b[0m \u001b[0;34m+=\u001b[0m \u001b[0;34m[\u001b[0m\u001b[0mobj\u001b[0m\u001b[0;34m]\u001b[0m\u001b[0;34m\u001b[0m\u001b[0;34m\u001b[0m\u001b[0m\n\u001b[1;32m    173\u001b[0m \u001b[0;34m\u001b[0m\u001b[0m\n",
      "\u001b[0;31mKeyboardInterrupt\u001b[0m: "
     ]
    }
   ],
   "source": [
    "import sys\n",
    "from demo import Demo\n",
    "import argparse\n",
    "from PIL import Image\n",
    "from utils import *\n",
    "import os\n",
    "\n",
    "\n",
    "sys.path.append('/users/janhr/unsup3d_extended')\n",
    "sys.path.append('/users/janhr/unsup3d_extended/omboarding')\n",
    "sys.argv = ['']    \n",
    "    \n",
    "parser = argparse.ArgumentParser(description='Demo configurations.')\n",
    "parser.add_argument('--input', default='../onboarding/images/cat_face', type=str, help='Path to the directory containing input images')\n",
    "parser.add_argument('--result', default='../demo/results/cats', type=str, help='Path to the directory for saving results')\n",
    "parser.add_argument('--checkpoint', default='/users/janhr/unsup3d_extended/pretrained/pretrained_cat/checkpoint100.pth', type=str, help='Path to the checkpoint file')\n",
    "parser.add_argument('--output_size', default=128, type=int, help='Output image size')\n",
    "parser.add_argument('--gpu', default=True, action='store_true', help='Enable GPU')\n",
    "parser.add_argument('--detect_human_face', default=False, action='store_true', help='Enable automatic human face detection. This does not detect cat faces.')\n",
    "parser.add_argument('--render_video', default=False, action='store_true', help='Render 3D animations to video')\n",
    "args = parser.parse_args()\n",
    "\n",
    "input_dir = args.input\n",
    "result_dir = args.result\n",
    "model = Demo(args)\n",
    "im_list = [os.path.join(input_dir, f) for f in sorted(os.listdir(input_dir)) if is_image_file(f)]\n",
    "\n",
    "\n",
    "counter = 0\n",
    "\n",
    "for im_path in im_list:\n",
    "    print(counter)\n",
    "    if(counter > 5):\n",
    "        break\n",
    "    print(f\"Processing {im_path}\")\n",
    "    pil_im = Image.open(im_path).convert('RGB')\n",
    "    filename = im_path[-11:-4]\n",
    "    result_code = model.run(pil_im, filename)\n",
    "    if result_code == -1:\n",
    "        print(f\"Failed! Skipping {im_path}\")\n",
    "        continue\n",
    "    couner = counter + 1\n",
    "\n",
    "    save_dir = os.path.join(result_dir, os.path.splitext(os.path.basename(im_path))[0])\n",
    "    model.save_results(save_dir)"
   ]
  },
  {
   "cell_type": "code",
   "execution_count": null,
   "id": "public-baltimore",
   "metadata": {},
   "outputs": [],
   "source": []
  }
 ],
 "metadata": {
  "kernelspec": {
   "display_name": "Python 3",
   "language": "python",
   "name": "python3"
  },
  "language_info": {
   "codemirror_mode": {
    "name": "ipython",
    "version": 3
   },
   "file_extension": ".py",
   "mimetype": "text/x-python",
   "name": "python",
   "nbconvert_exporter": "python",
   "pygments_lexer": "ipython3",
   "version": "3.7.7"
  }
 },
 "nbformat": 4,
 "nbformat_minor": 5
}
